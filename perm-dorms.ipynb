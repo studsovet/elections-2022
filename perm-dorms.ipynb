{
 "cells": [
  {
   "cell_type": "code",
   "execution_count": null,
   "metadata": {},
   "outputs": [],
   "source": [
    "import pandas as pd"
   ]
  },
  {
   "cell_type": "code",
   "execution_count": null,
   "metadata": {},
   "outputs": [],
   "source": [
    "all_students = pd.read_json('./data/students.json', orient='records')\n",
    "perm_students = all_students[all_students['uns'].str[0] == 'П']\n",
    "perm_students['fio'] = perm_students['fio'].str.replace(' -', '')\n",
    "dorm_students = pd.read_excel('./data/пермь_общежития.xlsx')"
   ]
  },
  {
   "cell_type": "code",
   "execution_count": null,
   "metadata": {},
   "outputs": [],
   "source": [
    "votes = pd.read_excel('./data/Довыборы в Студенческий совет НИУ ВШЭ - Пермь (округ общежитий)(1-19).xlsx')"
   ]
  },
  {
   "cell_type": "code",
   "execution_count": null,
   "metadata": {},
   "outputs": [],
   "source": [
    "votes_merged = votes.merge(perm_students[['email', 'fio']], left_on='Почта', right_on='email', how='left').merge(dorm_students, left_on='fio', right_on='ФИО', how='left')"
   ]
  },
  {
   "cell_type": "code",
   "execution_count": null,
   "metadata": {},
   "outputs": [],
   "source": [
    "# Студенты которые не нашлись в списке общажников - перепроверить вручную\n",
    "votes_merged[votes_merged['ФИО'].isna()][['Почта', 'Имя', 'email', 'fio', 'ФИО']]"
   ]
  },
  {
   "cell_type": "code",
   "execution_count": null,
   "metadata": {},
   "outputs": [],
   "source": [
    "votes_filtered = votes_merged.dropna(axis=0, subset='ФИО')"
   ]
  },
  {
   "cell_type": "code",
   "execution_count": null,
   "metadata": {},
   "outputs": [],
   "source": [
    "# Результаты\n",
    "votes_filtered['Column'].value_counts()"
   ]
  }
 ],
 "metadata": {
  "kernelspec": {
   "display_name": "venv",
   "language": "python",
   "name": "python3"
  },
  "language_info": {
   "codemirror_mode": {
    "name": "ipython",
    "version": 3
   },
   "file_extension": ".py",
   "mimetype": "text/x-python",
   "name": "python",
   "nbconvert_exporter": "python",
   "pygments_lexer": "ipython3",
   "version": "3.9.16"
  },
  "orig_nbformat": 4
 },
 "nbformat": 4,
 "nbformat_minor": 2
}
