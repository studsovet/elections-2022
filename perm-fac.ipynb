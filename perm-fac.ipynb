{
 "cells": [
  {
   "cell_type": "code",
   "execution_count": null,
   "metadata": {},
   "outputs": [],
   "source": [
    "import pandas as pd"
   ]
  },
  {
   "cell_type": "code",
   "execution_count": null,
   "metadata": {},
   "outputs": [],
   "source": [
    "all_students = pd.read_json('./data/students.json', orient='records')\n",
    "perm_students = all_students[all_students['uns'].str[0] == 'П']"
   ]
  },
  {
   "cell_type": "code",
   "execution_count": null,
   "metadata": {},
   "outputs": [],
   "source": [
    "votes = pd.read_excel('./data/Довыборы в Студенческий совет НИУ ВШЭ - Пермь (округ факультетов)(1-54).xlsx')"
   ]
  },
  {
   "cell_type": "code",
   "execution_count": null,
   "metadata": {},
   "outputs": [],
   "source": [
    "votes_merged = votes.merge(perm_students, left_on='Почта', right_on='email', how='left')"
   ]
  },
  {
   "cell_type": "code",
   "execution_count": null,
   "metadata": {},
   "outputs": [],
   "source": [
    "# студенты которые не нашлись среди пермских - ПЕРЕПРОВЕРИТЬ ВРУЧНУЮ\n",
    "votes_merged[votes_merged['email'].isna()]['Почта', 'Имя']"
   ]
  },
  {
   "cell_type": "code",
   "execution_count": null,
   "metadata": {},
   "outputs": [],
   "source": [
    "votes_filtered = votes_merged.dropna(axis=0, subset='email')\n",
    "votes_filtered['1'] = votes_filtered['Column'] #почему-то в выгрузке криво называется первый вопрос\n",
    "votes_filtered = votes_filtered[['1','2','3','4','5','6']]"
   ]
  },
  {
   "cell_type": "code",
   "execution_count": null,
   "metadata": {},
   "outputs": [],
   "source": [
    "# доля голосов с неверной суммой\n",
    "sums = votes_filtered.sum(axis=1)\n",
    "(sums!=4).sum() / sums.count()"
   ]
  },
  {
   "cell_type": "code",
   "execution_count": null,
   "metadata": {},
   "outputs": [],
   "source": [
    "def redistribute_proportionally(row):\n",
    "    s = row.sum()\n",
    "    if s == 0:\n",
    "        return row\n",
    "    coeff = 4/s\n",
    "    return row*coeff"
   ]
  },
  {
   "cell_type": "code",
   "execution_count": null,
   "metadata": {},
   "outputs": [],
   "source": [
    "red_prop = votes_filtered.apply(redistribute_proportionally, axis=1)\n",
    "red_prop = red_prop[red_prop.sum(axis=1) != 0]\n",
    "red_prop.sum()"
   ]
  },
  {
   "cell_type": "code",
   "execution_count": null,
   "metadata": {},
   "outputs": [],
   "source": [
    "red_prop.sum().plot.bar()"
   ]
  }
 ],
 "metadata": {
  "kernelspec": {
   "display_name": "venv",
   "language": "python",
   "name": "python3"
  },
  "language_info": {
   "codemirror_mode": {
    "name": "ipython",
    "version": 3
   },
   "file_extension": ".py",
   "mimetype": "text/x-python",
   "name": "python",
   "nbconvert_exporter": "python",
   "pygments_lexer": "ipython3",
   "version": "3.9.16"
  },
  "orig_nbformat": 4
 },
 "nbformat": 4,
 "nbformat_minor": 2
}
