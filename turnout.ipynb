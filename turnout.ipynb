{
 "cells": [
  {
   "cell_type": "code",
   "execution_count": null,
   "metadata": {},
   "outputs": [],
   "source": [
    "import pandas as pd\n",
    "import jinja2"
   ]
  },
  {
   "cell_type": "code",
   "execution_count": null,
   "metadata": {},
   "outputs": [],
   "source": [
    "dist_path = './22_12_26_Выборы_студсоветов_и_УПС_Распределение_по_участкам_База.xlsx'\n",
    "districts = pd.read_excel(dist_path, sheet_name='Распределение')\n",
    "voters = pd.read_excel(dist_path, sheet_name='База')\n",
    "candidates = pd.read_excel('./candidates.xlsx')\n",
    "candidates = candidates.merge(districts[['Подразделение', 'код']], left_on='Подразделение', right_on='Подразделение', how='left')\n"
   ]
  },
  {
   "cell_type": "code",
   "execution_count": null,
   "metadata": {},
   "outputs": [],
   "source": [
    "votes = pd.read_excel('./22_12_28_Выборы_студсоветов_и_УПС_Выгрузка.xlsx', skiprows=[1,2])"
   ]
  },
  {
   "cell_type": "code",
   "execution_count": null,
   "metadata": {},
   "outputs": [],
   "source": [
    "def check_if_voted(row, column):\n",
    "    if pd.isna(row[column]):\n",
    "        return pd.NA\n",
    "    if row['status'] == 1:\n",
    "        return row[column]\n",
    "    if sum([0 if row[x] == ' ' else row[x] for x in candidates[candidates['код'] == row[column]]['id']]) > 0:\n",
    "        return row[column]\n",
    "    return pd.NA\n",
    "\n",
    "\n",
    "for column in [f'extra_{x}' for x in ['first', 'second', 'third', 'fourth', 'fifth']]:\n",
    "    votes[column] = votes.apply(lambda x: check_if_voted(x, column), axis=1)"
   ]
  },
  {
   "cell_type": "code",
   "execution_count": null,
   "metadata": {},
   "outputs": [],
   "source": [
    "merged = voters.merge(votes, on='ac', how='left').merge(districts[['Подразделение', 'код']], left_on='first', right_on='код', how='left')"
   ]
  },
  {
   "cell_type": "code",
   "execution_count": null,
   "metadata": {},
   "outputs": [],
   "source": [
    "merged"
   ]
  },
  {
   "cell_type": "code",
   "execution_count": null,
   "metadata": {},
   "outputs": [],
   "source": [
    "merged_count = merged.groupby(['op', 'Подразделение', ]).count()\n",
    "merged_count['Явка, %'] = merged_count['№ записи']/merged_count['ac'] * 100\n",
    "merged_count = merged_count.reset_index()\n",
    "op_turnout = merged_count[['op', 'Подразделение', 'Явка, %', '№ записи', 'ac']]\\\n",
    "            .rename({'ac': 'Всего студентов', '№ записи': 'Голосов'}, axis=1)\\\n",
    "            .sort_values(['Подразделение', 'Явка, %'], ascending=False)\n",
    "op_turnout = op_turnout[op_turnout['Всего студентов'] > 1]\n",
    "op_turnout.to_excel('Явка по ОП.xlsx', index=False)\n"
   ]
  },
  {
   "cell_type": "code",
   "execution_count": null,
   "metadata": {},
   "outputs": [],
   "source": [
    "gbe = [votes.groupby(f'extra_{x}').count()['id'] for x in ['first', 'second', 'third', 'fourth', 'fifth']]\n",
    "votes_by_district = pd.concat(gbe, axis=1).fillna(0).sum(axis=1)"
   ]
  },
  {
   "cell_type": "code",
   "execution_count": null,
   "metadata": {},
   "outputs": [],
   "source": [
    "districts_with_votes = districts.merge(votes_by_district.rename('Голосов'), left_on='код', right_index=True)\n",
    "districts_with_votes['Явка'] = districts_with_votes['Голосов'] / districts_with_votes['Всего'] * 100"
   ]
  },
  {
   "cell_type": "code",
   "execution_count": null,
   "metadata": {},
   "outputs": [],
   "source": [
    "print(districts_with_votes[['Подразделение', 'Явка']].sort_values('Явка', ascending=False))"
   ]
  },
  {
   "cell_type": "code",
   "execution_count": null,
   "metadata": {},
   "outputs": [],
   "source": [
    "with open('./template.svg') as f:\n",
    "    template = jinja2.Template(f.read())"
   ]
  },
  {
   "cell_type": "code",
   "execution_count": null,
   "metadata": {},
   "outputs": [],
   "source": [
    "districts_with_votes.index = districts_with_votes['код']"
   ]
  },
  {
   "cell_type": "code",
   "execution_count": null,
   "metadata": {},
   "outputs": [],
   "source": [
    "turnout = {'X'+a: '-' for a in districts['код']}\n",
    "turnout.update({'X'+a: f'{round(b,1)}%' for a, b in districts_with_votes['Явка'].to_dict().items()})\n",
    "with open('./turnout.svg', 'w') as f:\n",
    "    f.write(template.render(**turnout))"
   ]
  },
  {
   "cell_type": "code",
   "execution_count": null,
   "metadata": {},
   "outputs": [],
   "source": [
    "!/usr/local/bin/inkscape turnout.svg -d 150 -o turnout.png"
   ]
  }
 ],
 "metadata": {
  "kernelspec": {
   "display_name": "venv",
   "language": "python",
   "name": "python3"
  },
  "language_info": {
   "codemirror_mode": {
    "name": "ipython",
    "version": 3
   },
   "file_extension": ".py",
   "mimetype": "text/x-python",
   "name": "python",
   "nbconvert_exporter": "python",
   "pygments_lexer": "ipython3",
   "version": "3.9.12 (main, Mar 26 2022, 15:51:15) \n[Clang 13.1.6 (clang-1316.0.21.2)]"
  },
  "orig_nbformat": 4,
  "vscode": {
   "interpreter": {
    "hash": "18fe4390199b609ef856eef2d9eb4100a9527dc0ff7917d600287503c583dab4"
   }
  }
 },
 "nbformat": 4,
 "nbformat_minor": 2
}
